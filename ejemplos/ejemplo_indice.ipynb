{
 "cells": [
  {
   "cell_type": "markdown",
   "id": "7822d2d7",
   "metadata": {},
   "source": [
    "# Script de ejemplo: índice de calidad de LEILA\n",
    "\n",
    "Este escript contiene el código de ejemplo para hacer uso de la clase 'indice_calidad' del módulo 'calidad_datos' de LEILA. Esta clase permite generar un índice y subindicadores de calidad para conjuntos de datos del Portal de Datos Abiertos de Colombia.  "
   ]
  },
  {
   "cell_type": "markdown",
   "id": "aac0b49d",
   "metadata": {},
   "source": [
    "## 1. Importar la clase del índice de calidad de datos"
   ]
  },
  {
   "cell_type": "code",
   "execution_count": 1,
   "id": "825c2272",
   "metadata": {},
   "outputs": [],
   "source": [
    "# Importar la clase 'indice_calidad'\n",
    "from leila.calidad_datos import indice_calidad"
   ]
  },
  {
   "cell_type": "code",
   "execution_count": 2,
   "id": "7508ab8b",
   "metadata": {},
   "outputs": [],
   "source": [
    "# Crear el objeto de 'IndiceCalidad' de la clase 'indice_calidad' para un conjunto de datos específico, el cual tiene su propio código API\n",
    "IndiceCalidad = indice_calidad(api_id = \"5k38-dew4\")"
   ]
  },
  {
   "cell_type": "markdown",
   "id": "7eba57ed",
   "metadata": {},
   "source": [
    "## 2. Resultados \n",
    "Los resultados del índice y subindicadores se crean con el método 'indice' del objeto creado arriba"
   ]
  },
  {
   "cell_type": "markdown",
   "id": "1cab1b19",
   "metadata": {},
   "source": [
    "### 2.1. Resultado estándar\n",
    "Índice de calidad general y los subíndices de datos y metadatos \\\n",
    "**Nota**: no es necesario agregar todos los parámetros del método 'indice' para generar estos resultados"
   ]
  },
  {
   "cell_type": "code",
   "execution_count": 4,
   "id": "3ffe569a",
   "metadata": {},
   "outputs": [
    {
     "name": "stdout",
     "output_type": "stream",
     "text": [
      "El conjunto de datos se encuentra actualizado\n"
     ]
    }
   ],
   "source": [
    "# Se genera un resultado con el índice de calidad final y los subíndices de datos y metadatos\n",
    "resultado = IndiceCalidad.indice(datos = True, meta = True, subindicadores = False, numero_filas = 30000, \n",
    "                          dic_pesos_meta = None, dic_pesos_datos = None)"
   ]
  },
  {
   "cell_type": "code",
   "execution_count": 5,
   "id": "7944d7d0",
   "metadata": {},
   "outputs": [
    {
     "data": {
      "text/plain": [
       "{'indice': 0.8837429341853709,\n",
       " 'indice_metadatos': 0.8292914239262974,\n",
       " 'indice_datos': 0.9381944444444443}"
      ]
     },
     "execution_count": 5,
     "metadata": {},
     "output_type": "execute_result"
    }
   ],
   "source": [
    "# Se imprime el resultado, el cual es un diccionario con el índice de calidad final, \n",
    "# el subíndice de metadatos y el subíndice de datos\n",
    "resultado"
   ]
  },
  {
   "cell_type": "markdown",
   "id": "c523a39f",
   "metadata": {},
   "source": [
    "### 2.2. Resultado con subindicadores\n",
    "Se asigna el valor True al parámetro 'subindicadores' para presentar los subindicadores de datos y metadatos en el diccionario con los resultados"
   ]
  },
  {
   "cell_type": "code",
   "execution_count": 6,
   "id": "161be28a",
   "metadata": {},
   "outputs": [
    {
     "name": "stdout",
     "output_type": "stream",
     "text": [
      "El conjunto de datos se encuentra actualizado\n"
     ]
    }
   ],
   "source": [
    "resultado = IndiceCalidad.indice(datos = True, meta = True, subindicadores = True, numero_filas = 30000, \n",
    "                          dic_pesos_meta = None, dic_pesos_datos = None)"
   ]
  },
  {
   "cell_type": "code",
   "execution_count": 7,
   "id": "a67baeee",
   "metadata": {
    "scrolled": true
   },
   "outputs": [
    {
     "data": {
      "text/plain": [
       "{'indice': 0.8837429341853709,\n",
       " 'indice_metadatos': 0.8292914239262974,\n",
       " 'indice_datos': 0.9381944444444443}"
      ]
     },
     "execution_count": 7,
     "metadata": {},
     "output_type": "execute_result"
    }
   ],
   "source": [
    "# Se imprime el resultado con el índice de calidad final, el subíndice de metadatos y el subíndice de datos\n",
    "resultado[0]"
   ]
  },
  {
   "cell_type": "code",
   "execution_count": 10,
   "id": "d160df7a",
   "metadata": {},
   "outputs": [
    {
     "data": {
      "text/plain": [
       "{'trazabilidad_descripcion': 1.0,\n",
       " 'descripcion_columnas': 0.0,\n",
       " 'nombres_columnas': 1.0,\n",
       " 'retardo_actualizacion': 1,\n",
       " 'trazabilidad_actualizacion': 1.0,\n",
       " 'tipos_columnas_meta': 1.0,\n",
       " 'verificar_meta_cols': 1.0,\n",
       " 'trazabilidad_creacion': 1.0,\n",
       " 'trazabilidad_contacto': 1,\n",
       " 'tamano_comparacion': 1.0}"
      ]
     },
     "execution_count": 10,
     "metadata": {},
     "output_type": "execute_result"
    }
   ],
   "source": [
    "# Se imprime el resultado con los subindicadores de metadatos\n",
    "resultado[1]"
   ]
  },
  {
   "cell_type": "code",
   "execution_count": 9,
   "id": "4f517319",
   "metadata": {},
   "outputs": [
    {
     "data": {
      "text/plain": [
       "{'faltantes': 0.9527777777777777,\n",
       " 'tamano_columnas': 1,\n",
       " 'tamano_filas': 0.72,\n",
       " 'duplicados_filas': 1.0,\n",
       " 'duplicados_columnas': 1.0,\n",
       " 'tipos_columnas_unicos': 1.0,\n",
       " 'valores_unicos': 1.0}"
      ]
     },
     "execution_count": 9,
     "metadata": {},
     "output_type": "execute_result"
    }
   ],
   "source": [
    "# Se imprime el resultado con los subindicadores de datos\n",
    "resultado[2]"
   ]
  },
  {
   "cell_type": "markdown",
   "id": "e48b8b2d",
   "metadata": {},
   "source": [
    "### 2.3. Resultados con cambio en parámetro 'numero_filas'\n",
    "El parámetro 'numero_filas' tiene el número 30.000 asignado por defecto, lo cual indica que un conjunto de datos con más de 30.000 filas utilizará únicamente este número de filas para calcular el subindicador 'duplicados_columnas' para evitar costos computacionales muy altos. \n",
    "\n",
    "Al aumentar este número por encima de 30.000 puede se amplía el límite para restringir el cálculo del subindicador 'duplicados_columnas' y por lo tanto disminuirá la restricción de filas utilizadas para calcular los duplicados de columnas. Por el otro lado, si se disminuye el número se utilizarán menos filas para este cálculo pero se garantizará que la ejecución sea más rápida\n",
    "\n",
    "Los resultados con distintos números en 'numero_filas' serán distintos en caso de que las columnas tengan valores diferentes que no se incluyen en el cálculo de los duplicados"
   ]
  },
  {
   "cell_type": "code",
   "execution_count": 12,
   "id": "2a9b1597",
   "metadata": {},
   "outputs": [
    {
     "name": "stdout",
     "output_type": "stream",
     "text": [
      "El conjunto de datos se encuentra actualizado\n"
     ]
    }
   ],
   "source": [
    "# Se cambia el parámetro 'numero_filas' a 50.000\n",
    "resultado = IndiceCalidad.indice(datos = True, meta = True, subindicadores = False, numero_filas = 50000, \n",
    "                          dic_pesos_meta = None, dic_pesos_datos = None)"
   ]
  },
  {
   "cell_type": "code",
   "execution_count": 13,
   "id": "f0173f7f",
   "metadata": {},
   "outputs": [
    {
     "data": {
      "text/plain": [
       "{'indice': 0.8837429341853709,\n",
       " 'indice_metadatos': 0.8292914239262974,\n",
       " 'indice_datos': 0.9381944444444443}"
      ]
     },
     "execution_count": 13,
     "metadata": {},
     "output_type": "execute_result"
    }
   ],
   "source": [
    "# Imprime el resultado\n",
    "resultado"
   ]
  },
  {
   "cell_type": "markdown",
   "id": "f5f5daab",
   "metadata": {},
   "source": [
    "### 2.4. Resultados con reasignación de pesos\n",
    "En esta sección se presenta cómo un usuario puede asignar sus propios pesos para cada subindicador de calidad de datos y metadatos y así generar los resultados con este cambio. Para hacerlo, es necesario construir un diccionario de Python con los pesos. Es importante entender el orden por defecto de los pesos como se presentan a continuación, donde están ordenados de manyor a menor importancia para cada subindicador. Un usuario que quiera modificar los pesos tiene que tener este orden en cuenta al crear el diccionario de Python (esto se muestra en la celda siguiente)\n",
    "\n",
    "#### Subindicadores de metadatos\n",
    "1. trazabilidad_descripcion\n",
    "2. descripcion_columnas\n",
    "3. nombres_columnas\n",
    "4. retardo_actualizacion\n",
    "5. trazabilidad_actualizacion\n",
    "6. tipos_columnas_meta\n",
    "7. verificar_meta_cols\n",
    "8. trazabilidad_creacion \n",
    "9. trazabilidad_contacto\n",
    "10. tamano_comparacion\n",
    "                    \n",
    "#### Subindicadores de datos\n",
    "1. faltantes\n",
    "2. tamano_columnas\n",
    "3. tamano_filas\n",
    "4. duplicados_filas\n",
    "5. duplicados_columnas                    \n",
    "6. tipos_columnas_unicos\n",
    "7. valores_unicos"
   ]
  },
  {
   "cell_type": "markdown",
   "id": "3c8024e1",
   "metadata": {},
   "source": [
    "A continuación se crea y se ingresa un diccionario de Python con los pesos de un usuario de los subindicadores de los metadatos. Los pesos definidos por el usuario son los siguientes: \n",
    "\n",
    "1. trazabilidad_descripcion: 0.2\n",
    "2. descripcion_columnas: 0.2\n",
    "3. nombres_columnas: 0.1\n",
    "4. retardo_actualizacion: 0.1\n",
    "5. trazabilidad_actualizacion: 0.1\n",
    "6. tipos_columnas_meta: 0.1\n",
    "7. verificar_meta_cols: 0.1\n",
    "8. trazabilidad_creacion: 0.05 \n",
    "9. trazabilidad_contacto: 0.05\n",
    "10. tamano_comparacion: 0.05\n",
    "\n",
    "El diccionario con los pesos se crea en la siguiente celda, donde las llaves del diccionario son números que representan cada subindicador de metadatos, en el orden de importancia por defecto, y los valores son los pesos.\n"
   ]
  },
  {
   "cell_type": "code",
   "execution_count": 3,
   "id": "22e039ce",
   "metadata": {},
   "outputs": [],
   "source": [
    "# Diccionario de metadatos con pesos nuevos\n",
    "pesos_meta = {\n",
    "    1: 0.2,\n",
    "    2: 0.2,\n",
    "    3: 0.1,\n",
    "    4: 0.1,\n",
    "    5: 0.1,\n",
    "    6: 0.1,\n",
    "    7: 0.05,\n",
    "    8: 0.05,\n",
    "    9: 0.05, \n",
    "    10: 0.05,\n",
    "    }  \n",
    "# Diccionario de datos con pesos nuevos\n",
    "pesos_datos = {\n",
    "    1: 0.2,\n",
    "    2: 0.2,\n",
    "    3: 0.1,\n",
    "    4: 0.1,\n",
    "    5: 0.1,\n",
    "    6: 0.1,\n",
    "    7: 0.05,\n",
    "    }\n"
   ]
  },
  {
   "cell_type": "markdown",
   "id": "680ed561",
   "metadata": {},
   "source": [
    "En la siguiente celda se crean los resultados con los pesos definidos anteriormente. Para ellos se asigna el valor del diccionario 'pesos_meta' al parámetro 'dic_pesos_meta' y del diccionario 'pesos_datos' al parámetro 'dic_pesos_datos'"
   ]
  },
  {
   "cell_type": "code",
   "execution_count": 5,
   "id": "ceddc301",
   "metadata": {},
   "outputs": [
    {
     "name": "stdout",
     "output_type": "stream",
     "text": [
      "El conjunto de datos se encuentra actualizado\n"
     ]
    }
   ],
   "source": [
    "resultado = IndiceCalidad.indice(datos = True, meta = True, subindicadores = False, numero_filas = 30000, \n",
    "                          dic_pesos_meta = pesos_meta, dic_pesos_datos = pesos_datos)"
   ]
  },
  {
   "cell_type": "markdown",
   "id": "83af78b0",
   "metadata": {},
   "source": [
    "Se presenta el resutlado, el cual contiene el índice de calidad y los subíndices de datos y metadatos generados con los nuevos pesos"
   ]
  },
  {
   "cell_type": "code",
   "execution_count": 10,
   "id": "99f68d37",
   "metadata": {},
   "outputs": [
    {
     "data": {
      "text/plain": [
       "{'indice': 0.8690972222222222,\n",
       " 'indice_metadatos': 0.8000000000000002,\n",
       " 'indice_datos': 0.9381944444444443}"
      ]
     },
     "execution_count": 10,
     "metadata": {},
     "output_type": "execute_result"
    }
   ],
   "source": [
    "resultado[0]"
   ]
  }
 ],
 "metadata": {
  "kernelspec": {
   "display_name": "Python 3 (ipykernel)",
   "language": "python",
   "name": "python3"
  },
  "language_info": {
   "codemirror_mode": {
    "name": "ipython",
    "version": 3
   },
   "file_extension": ".py",
   "mimetype": "text/x-python",
   "name": "python",
   "nbconvert_exporter": "python",
   "pygments_lexer": "ipython3",
   "version": "3.8.5"
  }
 },
 "nbformat": 4,
 "nbformat_minor": 5
}
