{
 "cells": [
  {
   "cell_type": "markdown",
   "id": "4181c315",
   "metadata": {},
   "source": [
    "### Código para correr leila localmente en jupyter\n",
    "**ruta_leila** se refiere a la ruta en la que está alojado el código de leila que contiene las carpetas: ejemplos, leila y recursos"
   ]
  },
  {
   "cell_type": "code",
   "execution_count": 80,
   "id": "21b34f4e",
   "metadata": {},
   "outputs": [],
   "source": [
    "import sys\n",
    "ruta_leila = '/home/michel/Documents/dnp/leila/leila_desarrollo_indice_reporte_herencia/leila'\n",
    "sys.path.insert(0, ruta_leila)"
   ]
  },
  {
   "cell_type": "markdown",
   "id": "6b24d1a4",
   "metadata": {},
   "source": [
    "# Script de ejemplo: índice de calidad de LEILA\n",
    "\n",
    "Este script contiene el código de ejemplo para hacer uso de la clase 'IndiceCalidad' del módulo 'calidad_datos' de LEILA. Esta clase permite generar un índice y subindicadores de calidad para conjuntos de datos del Portal de Datos Abiertos de Colombia.  "
   ]
  },
  {
   "cell_type": "markdown",
   "id": "aac0b49d",
   "metadata": {},
   "source": [
    "## 1. Importar la clase del índice de calidad de datos"
   ]
  },
  {
   "cell_type": "code",
   "execution_count": 81,
   "id": "825c2272",
   "metadata": {},
   "outputs": [],
   "source": [
    "# Importar la clase DatosGov\n",
    "from leila.datos_gov import DatosGov\n",
    "from leila.calidad_datos import CalidadDatos"
   ]
  },
  {
   "cell_type": "markdown",
   "id": "81d05196",
   "metadata": {},
   "source": [
    "## 1.1 Calcular el índice de calidad de una base de datos del portal de datos DatosGov"
   ]
  },
  {
   "cell_type": "code",
   "execution_count": 82,
   "id": "7254de88",
   "metadata": {},
   "outputs": [],
   "source": [
    "# Crear el objeto de 'datos_gov' instancia de la clase DatosGov\n",
    "datos_gov = DatosGov()"
   ]
  },
  {
   "cell_type": "code",
   "execution_count": 83,
   "id": "38bfdc94",
   "metadata": {},
   "outputs": [],
   "source": [
    "# Cargar los datos de la base de datos del portal de datos DatosGov que tiene como api id: \"5k38-dew4\" \n",
    "base = datos_gov.cargar_base(\"5k38-dew4\")"
   ]
  },
  {
   "cell_type": "markdown",
   "id": "cf545cd8",
   "metadata": {},
   "source": [
    "## 2. Resultados \n",
    "Los resultados del índice y subindicadores se crean con el método 'indice' del objeto creado arriba"
   ]
  },
  {
   "cell_type": "markdown",
   "id": "99c85ae7",
   "metadata": {},
   "source": [
    "### 2.1. Resultado estándar\n",
    "Índice de calidad general y los subíndices de datos y metadatos \\\n",
    "**Nota**: no es necesario agregar todos los parámetros del método 'indice' para generar estos resultados"
   ]
  },
  {
   "cell_type": "code",
   "execution_count": 84,
   "id": "2308576a",
   "metadata": {},
   "outputs": [
    {
     "name": "stdout",
     "output_type": "stream",
     "text": [
      "El conjunto de datos no se encuentra actualizado porque la última actualización fue el 2022-06-01 22:48:49 y debe ser actualizado de manera trimestral\n",
      "{1: 1.0, 2: 0.0, 3: 1.0, 4: 0, 5: 1.0, 6: 1.0, 7: 1.0, 8: 1.0, 9: 1, 10: 1.0}\n"
     ]
    },
    {
     "data": {
      "text/plain": [
       "{'indice': 0.8410657901669452,\n",
       " 'indice_metadatos': 0.743937135889446,\n",
       " 'indice_datos': 0.9381944444444443}"
      ]
     },
     "execution_count": 84,
     "metadata": {},
     "output_type": "execute_result"
    }
   ],
   "source": [
    "# Se genera un resultado con el índice de calidad final y los subíndices de datos y metadatos\n",
    "# Se imprime el resultado, el cual es un diccionario con el índice de calidad final, \n",
    "# el subíndice de metadatos y el subíndice de datos\n",
    "resultado = base.indice()\n",
    "resultado"
   ]
  },
  {
   "cell_type": "markdown",
   "id": "c523a39f",
   "metadata": {},
   "source": [
    "### 2.2. Resultado con subindicadores\n",
    "Se asigna el valor True al parámetro 'subindicadores' para presentar los subindicadores de datos y metadatos en el diccionario con los resultados"
   ]
  },
  {
   "cell_type": "code",
   "execution_count": 85,
   "id": "161be28a",
   "metadata": {},
   "outputs": [
    {
     "name": "stdout",
     "output_type": "stream",
     "text": [
      "El conjunto de datos no se encuentra actualizado porque la última actualización fue el 2022-06-01 22:48:49 y debe ser actualizado de manera trimestral\n",
      "{1: 1.0, 2: 0.0, 3: 1.0, 4: 0, 5: 1.0, 6: 1.0, 7: 1.0, 8: 1.0, 9: 1, 10: 1.0}\n"
     ]
    }
   ],
   "source": [
    "resultado = base.indice(datos = True, meta = True, subindicadores = True, numero_filas = 30000, \n",
    "                          dic_pesos_meta = None, dic_pesos_datos = None)"
   ]
  },
  {
   "cell_type": "code",
   "execution_count": 86,
   "id": "a67baeee",
   "metadata": {
    "scrolled": true
   },
   "outputs": [
    {
     "data": {
      "text/plain": [
       "{'indice': 0.8410657901669452,\n",
       " 'indice_metadatos': 0.743937135889446,\n",
       " 'indice_datos': 0.9381944444444443}"
      ]
     },
     "execution_count": 86,
     "metadata": {},
     "output_type": "execute_result"
    }
   ],
   "source": [
    "# Se imprime el resultado con el índice de calidad final, el subíndice de metadatos y el subíndice de datos\n",
    "resultado[0]"
   ]
  },
  {
   "cell_type": "code",
   "execution_count": 87,
   "id": "d160df7a",
   "metadata": {},
   "outputs": [
    {
     "data": {
      "text/plain": [
       "{'trazabilidad_descripcion': 1.0,\n",
       " 'descripcion_columnas': 0.0,\n",
       " 'nombres_columnas': 1.0,\n",
       " 'retardo_actualizacion': 0,\n",
       " 'trazabilidad_actualizacion': 1.0,\n",
       " 'tipos_columnas_meta': 1.0,\n",
       " 'verificar_meta_cols': 1.0,\n",
       " 'trazabilidad_creacion': 1.0,\n",
       " 'trazabilidad_contacto': 1,\n",
       " 'tamano_comparacion': 1.0}"
      ]
     },
     "execution_count": 87,
     "metadata": {},
     "output_type": "execute_result"
    }
   ],
   "source": [
    "# Se imprime el resultado con los subindicadores de metadatos\n",
    "resultado[1]"
   ]
  },
  {
   "cell_type": "code",
   "execution_count": 88,
   "id": "4f517319",
   "metadata": {},
   "outputs": [
    {
     "data": {
      "text/plain": [
       "{'faltantes': 0.9527777777777777,\n",
       " 'tamano_columnas': 1,\n",
       " 'tamano_filas': 0.72,\n",
       " 'duplicados_filas': 1.0,\n",
       " 'duplicados_columnas': 1.0,\n",
       " 'tipos_columnas_unicos': 1.0,\n",
       " 'valores_unicos': 1.0}"
      ]
     },
     "execution_count": 88,
     "metadata": {},
     "output_type": "execute_result"
    }
   ],
   "source": [
    "# Se imprime el resultado con los subindicadores de datos\n",
    "resultado[2]"
   ]
  },
  {
   "cell_type": "markdown",
   "id": "e48b8b2d",
   "metadata": {},
   "source": [
    "### 2.3. Resultados con cambio en parámetro 'numero_filas'\n",
    "El parámetro 'numero_filas' tiene el número 30.000 asignado por defecto, lo cual indica que un conjunto de datos con más de 30.000 filas utilizará únicamente este número de filas para calcular el subindicador 'duplicados_columnas' para evitar costos computacionales muy altos. \n",
    "\n",
    "Al aumentar este número por encima de 30.000 puede se amplía el límite para restringir el cálculo del subindicador 'duplicados_columnas' y por lo tanto disminuirá la restricción de filas utilizadas para calcular los duplicados de columnas. Por el otro lado, si se disminuye el número se utilizarán menos filas para este cálculo pero se garantizará que la ejecución sea más rápida\n",
    "\n",
    "Los resultados con distintos números en 'numero_filas' serán distintos en caso de que las columnas tengan valores diferentes que no se incluyen en el cálculo de los duplicados"
   ]
  },
  {
   "cell_type": "code",
   "execution_count": 89,
   "id": "2a9b1597",
   "metadata": {},
   "outputs": [
    {
     "name": "stdout",
     "output_type": "stream",
     "text": [
      "El conjunto de datos no se encuentra actualizado porque la última actualización fue el 2022-06-01 22:48:49 y debe ser actualizado de manera trimestral\n",
      "{1: 1.0, 2: 0.0, 3: 1.0, 4: 0, 5: 1.0, 6: 1.0, 7: 1.0, 8: 1.0, 9: 1, 10: 1.0}\n"
     ]
    }
   ],
   "source": [
    "# Se cambia el parámetro 'numero_filas' a 50.000\n",
    "resultado = base.indice(datos = True, meta = True, subindicadores = False, numero_filas = 50000, \n",
    "                          dic_pesos_meta = None, dic_pesos_datos = None)"
   ]
  },
  {
   "cell_type": "code",
   "execution_count": 90,
   "id": "f0173f7f",
   "metadata": {},
   "outputs": [
    {
     "data": {
      "text/plain": [
       "{'indice': 0.8410657901669452,\n",
       " 'indice_metadatos': 0.743937135889446,\n",
       " 'indice_datos': 0.9381944444444443}"
      ]
     },
     "execution_count": 90,
     "metadata": {},
     "output_type": "execute_result"
    }
   ],
   "source": [
    "# Imprime el resultado\n",
    "resultado"
   ]
  },
  {
   "cell_type": "markdown",
   "id": "f5f5daab",
   "metadata": {},
   "source": [
    "### 2.4. Resultados con reasignación de pesos\n",
    "En esta sección se presenta cómo un usuario puede asignar sus propios pesos para cada subindicador de calidad de datos y metadatos y así generar los resultados con este cambio. Para hacerlo, es necesario construir un diccionario de Python con los pesos. Es importante entender el orden por defecto de los pesos como se presentan a continuación, donde están ordenados de manyor a menor importancia para cada subindicador. Un usuario que quiera modificar los pesos tiene que tener este orden en cuenta al crear el diccionario de Python (esto se muestra en la celda siguiente)\n",
    "\n",
    "#### Subindicadores de metadatos\n",
    "1. trazabilidad_descripcion\n",
    "2. descripcion_columnas\n",
    "3. nombres_columnas\n",
    "4. retardo_actualizacion\n",
    "5. trazabilidad_actualizacion\n",
    "6. tipos_columnas_meta\n",
    "7. verificar_meta_cols\n",
    "8. trazabilidad_creacion \n",
    "9. trazabilidad_contacto\n",
    "10. tamano_comparacion\n",
    "                    \n",
    "#### Subindicadores de datos\n",
    "1. faltantes\n",
    "2. tamano_columnas\n",
    "3. tamano_filas\n",
    "4. duplicados_filas\n",
    "5. duplicados_columnas                    \n",
    "6. tipos_columnas_unicos\n",
    "7. valores_unicos"
   ]
  },
  {
   "cell_type": "markdown",
   "id": "3c8024e1",
   "metadata": {},
   "source": [
    "A continuación se crea y se ingresa un diccionario de Python con los pesos de un usuario de los subindicadores de los metadatos. Los pesos definidos por el usuario son los siguientes: \n",
    "\n",
    "1. trazabilidad_descripcion: 0.2\n",
    "2. descripcion_columnas: 0.2\n",
    "3. nombres_columnas: 0.1\n",
    "4. retardo_actualizacion: 0.1\n",
    "5. trazabilidad_actualizacion: 0.1\n",
    "6. tipos_columnas_meta: 0.1\n",
    "7. verificar_meta_cols: 0.1\n",
    "8. trazabilidad_creacion: 0.05 \n",
    "9. trazabilidad_contacto: 0.05\n",
    "10. tamano_comparacion: 0.05\n",
    "\n",
    "El diccionario con los pesos se crea en la siguiente celda, donde las llaves del diccionario son números que representan cada subindicador de metadatos, en el orden de importancia por defecto, y los valores son los pesos.\n"
   ]
  },
  {
   "cell_type": "code",
   "execution_count": 91,
   "id": "22e039ce",
   "metadata": {},
   "outputs": [],
   "source": [
    "# Diccionario de metadatos con pesos nuevos\n",
    "pesos_meta = {\n",
    "    1: 0.2,\n",
    "    2: 0.2,\n",
    "    3: 0.1,\n",
    "    4: 0.1,\n",
    "    5: 0.1,\n",
    "    6: 0.1,\n",
    "    7: 0.05,\n",
    "    8: 0.05,\n",
    "    9: 0.05, \n",
    "    10: 0.05,\n",
    "    }  \n",
    "# Diccionario de datos con pesos nuevos\n",
    "pesos_datos = {\n",
    "    1: 0.2,\n",
    "    2: 0.2,\n",
    "    3: 0.1,\n",
    "    4: 0.1,\n",
    "    5: 0.1,\n",
    "    6: 0.1,\n",
    "    7: 0.05,\n",
    "    }\n"
   ]
  },
  {
   "cell_type": "markdown",
   "id": "680ed561",
   "metadata": {},
   "source": [
    "En la siguiente celda se crean los resultados con los pesos definidos anteriormente. Para ellos se asigna el valor del diccionario 'pesos_meta' al parámetro 'dic_pesos_meta' y del diccionario 'pesos_datos' al parámetro 'dic_pesos_datos'"
   ]
  },
  {
   "cell_type": "code",
   "execution_count": 92,
   "id": "ceddc301",
   "metadata": {},
   "outputs": [
    {
     "name": "stdout",
     "output_type": "stream",
     "text": [
      "El conjunto de datos no se encuentra actualizado porque la última actualización fue el 2022-06-01 22:48:49 y debe ser actualizado de manera trimestral\n"
     ]
    }
   ],
   "source": [
    "resultado = base.indice(datos = True, meta = True, subindicadores = False, numero_filas = 30000, \n",
    "                          dic_pesos_meta = pesos_meta, dic_pesos_datos = pesos_datos)"
   ]
  },
  {
   "cell_type": "markdown",
   "id": "83af78b0",
   "metadata": {},
   "source": [
    "Se presenta el resultado, el cual contiene el índice de calidad y los subíndices de datos y metadatos generados con los nuevos pesos"
   ]
  },
  {
   "cell_type": "code",
   "execution_count": 93,
   "id": "99f68d37",
   "metadata": {},
   "outputs": [
    {
     "data": {
      "text/plain": [
       "{'indice': 0.7562777777777778,\n",
       " 'indice_metadatos': 0.7000000000000002,\n",
       " 'indice_datos': 0.8125555555555556}"
      ]
     },
     "execution_count": 93,
     "metadata": {},
     "output_type": "execute_result"
    }
   ],
   "source": [
    "resultado"
   ]
  },
  {
   "cell_type": "markdown",
   "id": "0604a3e6",
   "metadata": {},
   "source": [
    "## 3. Índice de calidad para datos locales"
   ]
  },
  {
   "cell_type": "markdown",
   "id": "f3d0c711",
   "metadata": {},
   "source": [
    "Cargar un conjunto de datos local. Pueden descargar el siguiente: [dataset_ejemplos.xlsx](https://planeacionnacional-my.sharepoint.com/:x:/g/personal/ucd_dnp_gov_co/EcSDnonZAlBFqSFZ7N9MP1gBp50GlC_itwgNcLOm9CksyA?Download=1)"
   ]
  },
  {
   "cell_type": "code",
   "execution_count": 94,
   "id": "3bb50572",
   "metadata": {},
   "outputs": [
    {
     "name": "stderr",
     "output_type": "stream",
     "text": [
      "/home/michel/Documents/dnp/leila/leila_desarrollo_indice_reporte_herencia/leila/leila/calidad_datos.py:2948: UserWarning: Cargar archivos xlsx puede tomar demasiado tiempo, se aconseja fuertemente convertirlos a archivo csv, esto puede mejorar hasta 100x veces la velocidad de carga del archivo dataset_ejemplos.xlsx\n",
      "  warnings.warn(\n"
     ]
    }
   ],
   "source": [
    "calidad_datos = CalidadDatos('dataset_ejemplos.xlsx')"
   ]
  },
  {
   "cell_type": "markdown",
   "id": "5ffe62f6",
   "metadata": {},
   "source": [
    "### 3.1. Resultado estándar\n",
    "Índice de calidad general y los subíndices de datos y metadatos \\\n",
    "**Nota**: no es necesario agregar todos los parámetros del método 'indice' para generar estos resultados"
   ]
  },
  {
   "cell_type": "code",
   "execution_count": 95,
   "id": "ae9ac5c5",
   "metadata": {},
   "outputs": [],
   "source": [
    "resultado = calidad_datos.indice()"
   ]
  },
  {
   "cell_type": "markdown",
   "id": "6ecc2d29",
   "metadata": {},
   "source": [
    "Se observa que el índice para los metadatos es cero dado que los datos locales no tienen asociados metadatos. Es posible cargar metadatos locales. Eso se explicará en la próxima sección."
   ]
  },
  {
   "cell_type": "code",
   "execution_count": 96,
   "id": "17d206d9",
   "metadata": {},
   "outputs": [
    {
     "data": {
      "text/plain": [
       "{'indice': 0.47082625753300583,\n",
       " 'indice_metadatos': 0.0,\n",
       " 'indice_datos': 0.9416525150660117}"
      ]
     },
     "execution_count": 96,
     "metadata": {},
     "output_type": "execute_result"
    }
   ],
   "source": [
    "resultado"
   ]
  },
  {
   "cell_type": "markdown",
   "id": "3766fe1c",
   "metadata": {},
   "source": [
    "### 3.2. Resultado con subindicadores\n",
    "Se asigna el valor True al parámetro 'subindicadores' para presentar los subindicadores de datos y metadatos en el diccionario con los resultados"
   ]
  },
  {
   "cell_type": "code",
   "execution_count": 97,
   "id": "fd5e1277",
   "metadata": {},
   "outputs": [],
   "source": [
    "resultado = calidad_datos.indice(datos = True, meta = True, subindicadores = True, numero_filas = 30000, \n",
    "                          dic_pesos_meta = None, dic_pesos_datos = None)"
   ]
  },
  {
   "cell_type": "code",
   "execution_count": 98,
   "id": "e65c2bc4",
   "metadata": {},
   "outputs": [
    {
     "data": {
      "text/plain": [
       "({'indice': 0.47082625753300583,\n",
       "  'indice_metadatos': 0.0,\n",
       "  'indice_datos': 0.9416525150660117},\n",
       " {'trazabilidad_descripcion': 0,\n",
       "  'descripcion_columnas': 0,\n",
       "  'nombres_columnas': 0,\n",
       "  'retardo_actualizacion': 0,\n",
       "  'trazabilidad_actualizacion': 0,\n",
       "  'tipos_columnas_meta': 0,\n",
       "  'verificar_meta_cols': 0,\n",
       "  'trazabilidad_creacion': 0,\n",
       "  'trazabilidad_contacto': 0,\n",
       "  'tamano_comparacion': 0},\n",
       " {'faltantes': 0.8351901975128018,\n",
       "  'tamano_columnas': 1,\n",
       "  'tamano_filas': 1,\n",
       "  'duplicados_filas': 0.9999847598146794,\n",
       "  'duplicados_columnas': 0.92,\n",
       "  'tipos_columnas_unicos': 0.88,\n",
       "  'valores_unicos': 1.0})"
      ]
     },
     "execution_count": 98,
     "metadata": {},
     "output_type": "execute_result"
    }
   ],
   "source": [
    "resultado"
   ]
  },
  {
   "cell_type": "markdown",
   "id": "b6e6d3c2",
   "metadata": {},
   "source": [
    "### 2.4. Resultados con reasignación de pesos\n",
    "En esta sección se presenta cómo un usuario puede asignar sus propios pesos para cada subindicador de calidad de datos y metadatos y así generar los resultados con este cambio. Para hacerlo, es necesario construir un diccionario de Python con los pesos. Es importante entender el orden por defecto de los pesos como se presentan a continuación, donde están ordenados de manyor a menor importancia para cada subindicador. Un usuario que quiera modificar los pesos tiene que tener este orden en cuenta al crear el diccionario de Python (esto se muestra en la celda siguiente)\n",
    "\n",
    "#### Subindicadores de metadatos\n",
    "1. trazabilidad_descripcion\n",
    "2. descripcion_columnas\n",
    "3. nombres_columnas\n",
    "4. retardo_actualizacion\n",
    "5. trazabilidad_actualizacion\n",
    "6. tipos_columnas_meta\n",
    "7. verificar_meta_cols\n",
    "8. trazabilidad_creacion \n",
    "9. trazabilidad_contacto\n",
    "10. tamano_comparacion\n",
    "                    \n",
    "#### Subindicadores de datos\n",
    "1. faltantes\n",
    "2. tamano_columnas\n",
    "3. tamano_filas\n",
    "4. duplicados_filas\n",
    "5. duplicados_columnas                    \n",
    "6. tipos_columnas_unicos\n",
    "7. valores_unicos"
   ]
  },
  {
   "cell_type": "code",
   "execution_count": 99,
   "id": "61a3a64c",
   "metadata": {},
   "outputs": [],
   "source": [
    "# Diccionario de datos con pesos nuevos\n",
    "pesos_datos = {\n",
    "    1: 0.2,\n",
    "    2: 0.2,\n",
    "    3: 0.1,\n",
    "    4: 0.1,\n",
    "    5: 0.1,\n",
    "    6: 0.1,\n",
    "    7: 0.05,\n",
    "    }"
   ]
  },
  {
   "cell_type": "markdown",
   "id": "a482de55",
   "metadata": {},
   "source": [
    "En la siguiente celda se crean los resultados con los pesos definidos anteriormente. Para ellos se asigna el valor del diccionario 'pesos_datos' al parámetro 'dic_pesos_datos'"
   ]
  },
  {
   "cell_type": "markdown",
   "id": "b4261be9",
   "metadata": {},
   "source": [
    "El parámetro \"meta\" es igual False ya que no hay metadatos asociados a los datos locales."
   ]
  },
  {
   "cell_type": "code",
   "execution_count": 100,
   "id": "0a5dca00",
   "metadata": {},
   "outputs": [],
   "source": [
    "resultado = calidad_datos.indice(datos = True, meta = False, subindicadores = False, numero_filas = 30000,\n",
    "                                 dic_pesos_datos = pesos_datos)"
   ]
  },
  {
   "cell_type": "code",
   "execution_count": 101,
   "id": "22a78705",
   "metadata": {},
   "outputs": [
    {
     "data": {
      "text/plain": [
       "{'indice': 0.7970365154840283, 'indice_datos': 0.7970365154840283}"
      ]
     },
     "execution_count": 101,
     "metadata": {},
     "output_type": "execute_result"
    }
   ],
   "source": [
    "resultado"
   ]
  },
  {
   "cell_type": "markdown",
   "id": "db5087c4",
   "metadata": {},
   "source": [
    "## 4. Cargar metadatos locales "
   ]
  },
  {
   "cell_type": "markdown",
   "id": "4b35189a",
   "metadata": {},
   "source": [
    "La carga de metadatos locales solo se puede realizar a través de una instancia de la clase CalidadDatos porque la clase CalidadDatos es la única que permite la carga local de datos y metadatos."
   ]
  },
  {
   "cell_type": "markdown",
   "id": "41f4f4bc",
   "metadata": {},
   "source": [
    "Los metadatos deben seguir la siguiente estructura que permitirá calcula su índice de calidad asociado. Los valores que aparecen en el formato son datos de prueba. Es necesario tener en cuenta las siguientes condiciones con respecto al formato:\n",
    "* Para la llave **renderTypeName** hay cuatro opciones de tipos de datos que son las siguientes: \"number\", \"calendar_date\", \"checkbox\", \"text\". El valor de esta llave es de tipo String.\n",
    "* Las llaves **null** y **non_null** se refieren a la cantidad de filas nulas y no nulas. Este debe ser un String que se pueda convertir a entero positivo. Ejemplos: \"15\", \"20\".\n",
    "* Con respecto a la llave **Frecuencia de Actualización** se tienen las siguientes opciones de valores: \n",
    "\"diaria\", \"semanal\", \"quincenal\", \"mensual\", \"trimestral\", \"cuatrimestral\", \"semestral\", \"anual\", \"trieno\"\n",
    "* Las fechas **createdAt, publicationDate, rowsUpdatedAt** deben estar expresadas como en el formato de ejemplo.   "
   ]
  },
  {
   "cell_type": "code",
   "execution_count": 102,
   "id": "be977a65",
   "metadata": {},
   "outputs": [],
   "source": [
    "formato = {\n",
    "            \"name\": \"nombre de la base de datos\",\n",
    "            \"description\": \"descripción de la base de datos\",\n",
    "            \"createdAt\": 1575379734,\n",
    "            \"publicationDate\": 1575380046,\n",
    "            \"rowsUpdatedAt\": 1618623047,\n",
    "            \"metadata\": {\n",
    "                \"custom_fields\": {\n",
    "                    \"Información de Datos\": {\n",
    "                        \"Frecuencia de Actualización\": \"semanal\"\n",
    "                    }\n",
    "                }\n",
    "            },\n",
    "            \"approvals\": [\n",
    "                {\n",
    "                    \"submitter\": {\n",
    "                        \"displayName\": \"Nombre de quien envía la base de datos\"\n",
    "                    },\n",
    "                }\n",
    "            ],\n",
    "            \"columns\": [\n",
    "                {\n",
    "                    \"name\": \"nombre columna 1\",\n",
    "                    \"description\": \"\",\n",
    "                    \"renderTypeName\": \"tipo de dato de la columna\",\n",
    "                    \"cachedContents\": {\n",
    "                        \"non_null\": \"14287\",\n",
    "                        \"null\": \"0\"\n",
    "                    }\n",
    "                },\n",
    "                {\n",
    "                    \"name\": \"nombre columna 2\",\n",
    "                    \"description\": \"\",\n",
    "                    \"renderTypeName\": \"tipo de dato de la columna\",\n",
    "                    \"cachedContents\": {\n",
    "                        \"non_null\": \"14200\",\n",
    "                        \"null\": \"87\"\n",
    "                    }\n",
    "                }\n",
    "            ]\n",
    "        }"
   ]
  },
  {
   "cell_type": "code",
   "execution_count": 103,
   "id": "712e653a",
   "metadata": {},
   "outputs": [
    {
     "data": {
      "text/plain": [
       "{'name': 'nombre de la base de datos',\n",
       " 'description': 'descripción de la base de datos',\n",
       " 'createdAt': 1575379734,\n",
       " 'publicationDate': 1575380046,\n",
       " 'rowsUpdatedAt': 1618623047,\n",
       " 'metadata': {'custom_fields': {'Información de Datos': {'Frecuencia de Actualización': 'semanal'}}},\n",
       " 'approvals': [{'submitter': {'displayName': 'Nombre de quien envía la base de datos'}}],\n",
       " 'columns': [{'name': 'nombre columna 1',\n",
       "   'description': '',\n",
       "   'renderTypeName': 'tipo de dato de la columna',\n",
       "   'cachedContents': {'non_null': '14287', 'null': '0'}},\n",
       "  {'name': 'nombre columna 2',\n",
       "   'description': '',\n",
       "   'renderTypeName': 'tipo de dato de la columna',\n",
       "   'cachedContents': {'non_null': '14200', 'null': '87'}}]}"
      ]
     },
     "execution_count": 103,
     "metadata": {},
     "output_type": "execute_result"
    }
   ],
   "source": [
    "formato"
   ]
  },
  {
   "cell_type": "markdown",
   "id": "e8f47db0",
   "metadata": {},
   "source": [
    "##### Es posible cargar los metadatos desde una variable que debe ser de tipo **diccionario**:"
   ]
  },
  {
   "cell_type": "code",
   "execution_count": 104,
   "id": "66f11c5b",
   "metadata": {},
   "outputs": [
    {
     "name": "stdout",
     "output_type": "stream",
     "text": [
      "'información de Datos'\n"
     ]
    },
    {
     "data": {
      "text/plain": [
       "<leila.calidad_datos.CalidadDatos at 0x7f48d1690c10>"
      ]
     },
     "execution_count": 104,
     "metadata": {},
     "output_type": "execute_result"
    }
   ],
   "source": [
    "metadatos_var = calidad_datos.cargar_metadatos(formato)\n",
    "metadatos_var"
   ]
  },
  {
   "cell_type": "markdown",
   "id": "0602ae61",
   "metadata": {},
   "source": [
    "##### También es posible cargarlos desde un archivo local que debe tener la extensión .json:"
   ]
  },
  {
   "cell_type": "code",
   "execution_count": 105,
   "id": "76cd8e52",
   "metadata": {},
   "outputs": [
    {
     "name": "stdout",
     "output_type": "stream",
     "text": [
      "'información de Datos'\n"
     ]
    }
   ],
   "source": [
    "metadatos_locales = calidad_datos.cargar_metadatos('metadatos_prueba.json')"
   ]
  },
  {
   "cell_type": "markdown",
   "id": "90756baa",
   "metadata": {},
   "source": [
    "### 4.1 Acceso los metadatos locales"
   ]
  },
  {
   "cell_type": "markdown",
   "id": "7c660865",
   "metadata": {},
   "source": [
    "Para acceder los metadatos locales se usa el parámetro \"metadatos_indice\". "
   ]
  },
  {
   "cell_type": "code",
   "execution_count": 106,
   "id": "5ac6087c",
   "metadata": {},
   "outputs": [
    {
     "data": {
      "text/plain": [
       "{'name': 'nombre',\n",
       " 'description': 'descripcion',\n",
       " 'createdAt': 1575379734,\n",
       " 'publicationDate': 1575380046,\n",
       " 'rowsUpdatedAt': 1618623047,\n",
       " 'metadata': {'custom_fields': {'Información de Datos': {'Frecuencia de Actualización': 'Anual'}}},\n",
       " 'approvals': [{'submitter': {'displayName': 'Alcaldia de Pereira Secretaria TIC'}}],\n",
       " 'columns': [{'name': 'vivienda_id_sistema',\n",
       "   'description': '',\n",
       "   'renderTypeName': 'number',\n",
       "   'cachedContents': {'non_null': '14287', 'null': '0'}}]}"
      ]
     },
     "execution_count": 106,
     "metadata": {},
     "output_type": "execute_result"
    }
   ],
   "source": [
    "metadatos_locales.metadatos_indice"
   ]
  },
  {
   "cell_type": "markdown",
   "id": "4669a8e1",
   "metadata": {},
   "source": [
    "### 4.2 Cálculo del índice para los datos y metadatos locales"
   ]
  },
  {
   "cell_type": "code",
   "execution_count": 107,
   "id": "4e1bd65a",
   "metadata": {},
   "outputs": [
    {
     "name": "stdout",
     "output_type": "stream",
     "text": [
      "El conjunto de datos no se encuentra actualizado porque la última actualización fue el 2021-04-16 20:30:47 y debe ser actualizado de manera anual\n",
      "{1: 0, 2: 0.0, 3: 1.0, 4: 0, 5: 1.0, 6: 1.0, 7: 0, 8: 1.0, 9: 1, 10: 0}\n"
     ]
    },
    {
     "data": {
      "text/plain": [
       "{'indice': 0.6306284523575554,\n",
       " 'indice_metadatos': 0.3196043896490991,\n",
       " 'indice_datos': 0.9416525150660117}"
      ]
     },
     "execution_count": 107,
     "metadata": {},
     "output_type": "execute_result"
    }
   ],
   "source": [
    "metadatos_locales.indice(meta = True)"
   ]
  },
  {
   "cell_type": "markdown",
   "id": "fdcb6992",
   "metadata": {},
   "source": [
    "### 4.3  Creación de reporte para los datos y metadatos locales"
   ]
  },
  {
   "cell_type": "code",
   "execution_count": 108,
   "id": "60dabc59",
   "metadata": {},
   "outputs": [
    {
     "name": "stdout",
     "output_type": "stream",
     "text": [
      "El conjunto de datos no se encuentra actualizado porque la última actualización fue el 2021-04-16 20:30:47 y debe ser actualizado de manera anual\n",
      "{1: 0, 2: 0.0, 3: 1.0, 4: 0, 5: 1.0, 6: 1.0, 7: 0, 8: 1.0, 9: 1, 10: 0}\n",
      "--------------------------------------------------------------------------------------------\n",
      "Se ha generado el reporte \"indice_datos_metadatos_locales.html\"\n",
      "05:02:49 PM (00 min 15 seg)\n",
      "--------------------------------------------------------------------------------------------\n"
     ]
    }
   ],
   "source": [
    "metadatos_locales.generar_reporte(archivo = 'indice_datos_metadatos_locales.html')"
   ]
  }
 ],
 "metadata": {
  "kernelspec": {
   "display_name": "Python 3 (ipykernel)",
   "language": "python",
   "name": "python3"
  },
  "language_info": {
   "codemirror_mode": {
    "name": "ipython",
    "version": 3
   },
   "file_extension": ".py",
   "mimetype": "text/x-python",
   "name": "python",
   "nbconvert_exporter": "python",
   "pygments_lexer": "ipython3",
   "version": "3.10.6"
  }
 },
 "nbformat": 4,
 "nbformat_minor": 5
}
