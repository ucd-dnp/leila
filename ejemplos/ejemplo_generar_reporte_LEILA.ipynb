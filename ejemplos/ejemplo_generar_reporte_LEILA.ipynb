{
 "cells": [
  {
   "cell_type": "markdown",
   "id": "48401b1d",
   "metadata": {},
   "source": [
    "### Código para correr leila localmente en jupyter\n",
    "**ruta_leila** se refiere a la ruta en la que está alojado el código de leila que contiene las carpetas: ejemplos, leila y recursos"
   ]
  },
  {
   "cell_type": "code",
   "execution_count": 1,
   "id": "435339d1",
   "metadata": {},
   "outputs": [],
   "source": [
    "import sys\n",
    "ruta_leila = '/home/michel/Documents/dnp/leila/leila_desarrollo_indice_reporte_herencia/leila'\n",
    "sys.path.insert(0, ruta_leila)"
   ]
  },
  {
   "cell_type": "code",
   "execution_count": 2,
   "id": "60c2cb8b",
   "metadata": {},
   "outputs": [],
   "source": [
    "# Se importa la librería pandas para la lectura de datos\n",
    "import pandas as pd"
   ]
  },
  {
   "cell_type": "markdown",
   "id": "717ab679",
   "metadata": {},
   "source": [
    "### Generar reporte automático del portal de datos DatosGov\n",
    "\n",
    "La función `generar_reporte` permite crear un archivo HTML con resultados y métricas de calidad sobre conjunto de datos estructurados."
   ]
  },
  {
   "cell_type": "code",
   "execution_count": 3,
   "id": "196421bb",
   "metadata": {},
   "outputs": [],
   "source": [
    "# Se importa la función generar_reporte del módulo de reporte\n",
    "from leila.datos_gov import DatosGov\n",
    "from leila.calidad_datos import CalidadDatos"
   ]
  },
  {
   "cell_type": "markdown",
   "id": "f5b1767f",
   "metadata": {},
   "source": [
    "La función `generar_reporte` tiene 4 argumentos principales.\n",
    "* **datos** - corresponde a los datos a ser analizados. Este parámetro acepta:\n",
    "    * (str) api_id o Identificación de la base de datos asociado con la API de Socrata de un conjunto de datos del portal de Datos Abiertos.\n",
    "    * Un objeto de tipo `leila.CalidadDatos`\n",
    "    * (str) Ruta o path a archivos tipo `.xlsx` o `.csv` (recomendado)\n",
    "    * un `DataFrame` de pandas\n",
    "    \n",
    "\n",
    "* **titulo** – (str) valor por defecto: “Reporte perfilamiento”. Título del reporte a generar.\n",
    "* **archivo** – (str) valor por defecto: “perfilamiento.html”. Ruta donde se desea guardar el reporte en formato HMTL.\n",
    "* **secciones** - (dic) Diccionario indicando cuales secciones incluir en el reporte.\n",
    "\n",
    "Para mayor información puede consultar la [documentación de la función](https://ucd-dnp.github.io/leila/versiones/master/funciones/reporte.html)"
   ]
  },
  {
   "cell_type": "markdown",
   "id": "c5cf8908",
   "metadata": {},
   "source": [
    "---"
   ]
  },
  {
   "cell_type": "markdown",
   "id": "5cb3b32a",
   "metadata": {},
   "source": [
    "Para generar el reporte es necesario crear una instancia de la clase DatosGov. La cual permite cargar datos del portal de datos DatosGov"
   ]
  },
  {
   "cell_type": "code",
   "execution_count": 4,
   "id": "e4da93b7",
   "metadata": {},
   "outputs": [],
   "source": [
    "datos_gov = DatosGov()"
   ]
  },
  {
   "cell_type": "markdown",
   "id": "64229517",
   "metadata": {},
   "source": [
    "Se carga la base de datos que tiene como api_id **gt2j-8ykr**. Este caso corresponde a los casos positivos de COVID-19 reportados en Colombia en el Portal de Datos Abiertos."
   ]
  },
  {
   "cell_type": "code",
   "execution_count": 5,
   "id": "221cf798",
   "metadata": {},
   "outputs": [],
   "source": [
    "base = datos_gov.cargar_base(\"gt2j-8ykr\")"
   ]
  },
  {
   "cell_type": "markdown",
   "id": "3b174b91",
   "metadata": {},
   "source": [
    "Se genera el reporte con los parámetros asociados.\n",
    "El título del reporte será 'Casos positivos de COVID-19 en Colombia (primeros 1000 registros)' y será guardado con el nombre reporte_calidad_COVID.html. Teniendo en cuenta que se trata de un conjunto de datos con muchos registros, usamos el argumento limite_filas para\n",
    "limitar la descarga de información a solo los primeros 1.000 registros."
   ]
  },
  {
   "cell_type": "code",
   "execution_count": 6,
   "id": "0cf534b0",
   "metadata": {},
   "outputs": [
    {
     "name": "stdout",
     "output_type": "stream",
     "text": [
      "El conjunto de datos no se encuentra actualizado porque la última actualización fue el 2022-10-27 23:43:40 y debe ser actualizado de manera diaria\n",
      "{1: 1.0, 2: 0.6086956521739131, 3: 1.0, 4: 0, 5: 1.0, 6: 1.0, 7: 0.6956521739130435, 8: 1.0, 9: 1, 10: 0.5}\n"
     ]
    },
    {
     "name": "stderr",
     "output_type": "stream",
     "text": [
      "/home/michel/Documents/dnp/leila/leila_desarrollo_indice_reporte_herencia/leila_reporte_indice_her_env/lib/python3.10/site-packages/numpy/lib/nanfunctions.py:1559: RuntimeWarning: All-NaN slice encountered\n",
      "  r, k = function_base._ureduce(a,\n",
      "/home/michel/Documents/dnp/leila/leila_desarrollo_indice_reporte_herencia/leila_reporte_indice_her_env/lib/python3.10/site-packages/numpy/lib/nanfunctions.py:1559: RuntimeWarning: All-NaN slice encountered\n",
      "  r, k = function_base._ureduce(a,\n",
      "/home/michel/Documents/dnp/leila/leila_desarrollo_indice_reporte_herencia/leila_reporte_indice_her_env/lib/python3.10/site-packages/numpy/lib/nanfunctions.py:1559: RuntimeWarning: All-NaN slice encountered\n",
      "  r, k = function_base._ureduce(a,\n",
      "/home/michel/Documents/dnp/leila/leila_desarrollo_indice_reporte_herencia/leila_reporte_indice_her_env/lib/python3.10/site-packages/numpy/lib/nanfunctions.py:1559: RuntimeWarning: All-NaN slice encountered\n",
      "  r, k = function_base._ureduce(a,\n",
      "/home/michel/Documents/dnp/leila/leila_desarrollo_indice_reporte_herencia/leila_reporte_indice_her_env/lib/python3.10/site-packages/numpy/lib/nanfunctions.py:1559: RuntimeWarning: All-NaN slice encountered\n",
      "  r, k = function_base._ureduce(a,\n",
      "/home/michel/Documents/dnp/leila/leila_desarrollo_indice_reporte_herencia/leila_reporte_indice_her_env/lib/python3.10/site-packages/numpy/lib/nanfunctions.py:1559: RuntimeWarning: All-NaN slice encountered\n",
      "  r, k = function_base._ureduce(a,\n",
      "/home/michel/Documents/dnp/leila/leila_desarrollo_indice_reporte_herencia/leila_reporte_indice_her_env/lib/python3.10/site-packages/numpy/lib/nanfunctions.py:1559: RuntimeWarning: All-NaN slice encountered\n",
      "  r, k = function_base._ureduce(a,\n",
      "/home/michel/Documents/dnp/leila/leila_desarrollo_indice_reporte_herencia/leila_reporte_indice_her_env/lib/python3.10/site-packages/numpy/lib/nanfunctions.py:1559: RuntimeWarning: All-NaN slice encountered\n",
      "  r, k = function_base._ureduce(a,\n"
     ]
    },
    {
     "name": "stdout",
     "output_type": "stream",
     "text": [
      "--------------------------------------------------------------------------------------------\n",
      "Se ha generado el reporte \"ejemplo_reporte__API_datos_abiertos.html\"\n",
      "03:30:38 PM (00 min 17 seg)\n",
      "--------------------------------------------------------------------------------------------\n"
     ]
    }
   ],
   "source": [
    "base.generar_reporte(\n",
    "                titulo='Casos positivos de COVID-19 en Colombia (primeros 1000 registros)', \n",
    "                archivo='ejemplo_reporte__API_datos_abiertos.html',\n",
    "                limite_filas=1000\n",
    "                )"
   ]
  },
  {
   "cell_type": "markdown",
   "id": "ffd0f1e3",
   "metadata": {},
   "source": [
    "Si desea excluir una sección del reporte lo puede hacer mediante el parámetro secciones.\n",
    "\n",
    "En el siguiente ejemplo se excluyó del reporte la sección \"correlaciones\", y de la sección \"Estadísticas específicas\"\n",
    "solo se incluyeron las pestañas \"Tipo de las columnas\" y \"Frecuencia de categorías\""
   ]
  },
  {
   "cell_type": "code",
   "execution_count": 7,
   "id": "5ca098df",
   "metadata": {},
   "outputs": [
    {
     "name": "stdout",
     "output_type": "stream",
     "text": [
      "El conjunto de datos no se encuentra actualizado porque la última actualización fue el 2022-10-27 23:43:40 y debe ser actualizado de manera diaria\n",
      "{1: 1.0, 2: 0.6086956521739131, 3: 1.0, 4: 0, 5: 1.0, 6: 1.0, 7: 0.6956521739130435, 8: 1.0, 9: 1, 10: 0.5}\n"
     ]
    },
    {
     "name": "stderr",
     "output_type": "stream",
     "text": [
      "/home/michel/Documents/dnp/leila/leila_desarrollo_indice_reporte_herencia/leila_reporte_indice_her_env/lib/python3.10/site-packages/numpy/lib/nanfunctions.py:1559: RuntimeWarning: All-NaN slice encountered\n",
      "  r, k = function_base._ureduce(a,\n",
      "/home/michel/Documents/dnp/leila/leila_desarrollo_indice_reporte_herencia/leila_reporte_indice_her_env/lib/python3.10/site-packages/numpy/lib/nanfunctions.py:1559: RuntimeWarning: All-NaN slice encountered\n",
      "  r, k = function_base._ureduce(a,\n"
     ]
    },
    {
     "name": "stdout",
     "output_type": "stream",
     "text": [
      "--------------------------------------------------------------------------------------------\n",
      "Se ha generado el reporte \"ejemplo_reporte__secciones.html\"\n",
      "03:30:56 PM (00 min 0 seg)\n",
      "--------------------------------------------------------------------------------------------\n"
     ]
    }
   ],
   "source": [
    "# Se llama la función para generar el reporte\n",
    "base.generar_reporte(datos=\"bign-27m7\", \n",
    "                titulo=\"Reporte visas\",\n",
    "                archivo='ejemplo_reporte__secciones.html',\n",
    "                secciones={'generales':True, 'muestra_datos': True, 'correlaciones': False,\n",
    "                           'especificas': ['tipo', 'frecuencias']})"
   ]
  },
  {
   "cell_type": "markdown",
   "id": "1bb9d382",
   "metadata": {},
   "source": [
    "También se puede generar el reporte a partir de un dataframe o indicando la ruta de un archivo XLSX o CSV. \n",
    "Para esto solo se requiere cambiar el parámetro datos."
   ]
  },
  {
   "cell_type": "code",
   "execution_count": 8,
   "id": "f2e0fbcc",
   "metadata": {},
   "outputs": [
    {
     "name": "stdout",
     "output_type": "stream",
     "text": [
      "El conjunto de datos no se encuentra actualizado porque la última actualización fue el 2022-10-27 23:43:40 y debe ser actualizado de manera diaria\n",
      "{1: 1.0, 2: 0.6086956521739131, 3: 1.0, 4: 0, 5: 1.0, 6: 1.0, 7: 0.6956521739130435, 8: 1.0, 9: 1, 10: 0.5}\n"
     ]
    },
    {
     "name": "stderr",
     "output_type": "stream",
     "text": [
      "/home/michel/Documents/dnp/leila/leila_desarrollo_indice_reporte_herencia/leila_reporte_indice_her_env/lib/python3.10/site-packages/numpy/lib/nanfunctions.py:1559: RuntimeWarning: All-NaN slice encountered\n",
      "  r, k = function_base._ureduce(a,\n",
      "/home/michel/Documents/dnp/leila/leila_desarrollo_indice_reporte_herencia/leila_reporte_indice_her_env/lib/python3.10/site-packages/numpy/lib/nanfunctions.py:1559: RuntimeWarning: All-NaN slice encountered\n",
      "  r, k = function_base._ureduce(a,\n",
      "/home/michel/Documents/dnp/leila/leila_desarrollo_indice_reporte_herencia/leila_reporte_indice_her_env/lib/python3.10/site-packages/numpy/lib/nanfunctions.py:1559: RuntimeWarning: All-NaN slice encountered\n",
      "  r, k = function_base._ureduce(a,\n",
      "/home/michel/Documents/dnp/leila/leila_desarrollo_indice_reporte_herencia/leila_reporte_indice_her_env/lib/python3.10/site-packages/numpy/lib/nanfunctions.py:1559: RuntimeWarning: All-NaN slice encountered\n",
      "  r, k = function_base._ureduce(a,\n",
      "/home/michel/Documents/dnp/leila/leila_desarrollo_indice_reporte_herencia/leila_reporte_indice_her_env/lib/python3.10/site-packages/numpy/lib/nanfunctions.py:1559: RuntimeWarning: All-NaN slice encountered\n",
      "  r, k = function_base._ureduce(a,\n",
      "/home/michel/Documents/dnp/leila/leila_desarrollo_indice_reporte_herencia/leila_reporte_indice_her_env/lib/python3.10/site-packages/numpy/lib/nanfunctions.py:1559: RuntimeWarning: All-NaN slice encountered\n",
      "  r, k = function_base._ureduce(a,\n",
      "/home/michel/Documents/dnp/leila/leila_desarrollo_indice_reporte_herencia/leila_reporte_indice_her_env/lib/python3.10/site-packages/numpy/lib/nanfunctions.py:1559: RuntimeWarning: All-NaN slice encountered\n",
      "  r, k = function_base._ureduce(a,\n",
      "/home/michel/Documents/dnp/leila/leila_desarrollo_indice_reporte_herencia/leila_reporte_indice_her_env/lib/python3.10/site-packages/numpy/lib/nanfunctions.py:1559: RuntimeWarning: All-NaN slice encountered\n",
      "  r, k = function_base._ureduce(a,\n"
     ]
    },
    {
     "name": "stdout",
     "output_type": "stream",
     "text": [
      "--------------------------------------------------------------------------------------------\n",
      "Se ha generado el reporte \"ejemplo_reporte__archivo_XLSX.html\"\n",
      "03:30:58 PM (00 min 11 seg)\n",
      "--------------------------------------------------------------------------------------------\n"
     ]
    }
   ],
   "source": [
    "# Se llama la función para generar el reporte\n",
    "base.generar_reporte(datos=\"dataset ejemplos.xlsx\", \n",
    "                titulo='Reporte de prueba archivo XLSX', \n",
    "                archivo='ejemplo_reporte__archivo_XLSX.html')"
   ]
  },
  {
   "cell_type": "markdown",
   "id": "28e7eb95",
   "metadata": {},
   "source": [
    "### Creación de reporte de una base de datos local"
   ]
  },
  {
   "cell_type": "code",
   "execution_count": 4,
   "id": "877d8417",
   "metadata": {},
   "outputs": [
    {
     "name": "stderr",
     "output_type": "stream",
     "text": [
      "/home/michel/Documents/dnp/leila/leila_desarrollo_indice_reporte_herencia/leila/leila/calidad_datos.py:3021: UserWarning: Cargar archivos xlsx puede tomar demasiado tiempo, se aconseja fuertemente convertirlos a archivo csv, esto puede mejorar hasta 100x veces la velocidad de carga del archivo dataset_ejemplos.xlsx\n",
      "  warnings.warn(\n"
     ]
    }
   ],
   "source": [
    "#dtypes = {'ID de caso': object,\n",
    "#          'Código DIVIPOLA': object,\n",
    "#          'Codigo departamento': object,\n",
    "#          'Codigo pais':object}\n",
    "\n",
    "# Lectura de archivo de datos como dataframe\n",
    "df_datos = CalidadDatos('dataset_ejemplos.xlsx')#, \n",
    "                        #dtype=dtypes)"
   ]
  },
  {
   "cell_type": "code",
   "execution_count": null,
   "id": "965fbe4d",
   "metadata": {},
   "outputs": [],
   "source": [
    "# Se llama la función para generar el reporte\n",
    "df_datos.generar_reporte(datos=df_datos,\n",
    "                titulo='Perfilamiento datos COVID-19 - Colombia',\n",
    "                archivo='ejemplo_reporte__dataframe.html')"
   ]
  },
  {
   "cell_type": "markdown",
   "id": "6704887a",
   "metadata": {},
   "source": [
    "### Creación del reporte con metadatos locales"
   ]
  },
  {
   "cell_type": "markdown",
   "id": "4c0e971d",
   "metadata": {},
   "source": [
    "#### Primero se cargan los metadatos"
   ]
  },
  {
   "cell_type": "code",
   "execution_count": 5,
   "id": "48616c87",
   "metadata": {},
   "outputs": [
    {
     "name": "stdout",
     "output_type": "stream",
     "text": [
      "'información de Datos'\n"
     ]
    },
    {
     "data": {
      "text/plain": [
       "<leila.calidad_datos.CalidadDatos at 0x7fe8f85f4b20>"
      ]
     },
     "execution_count": 5,
     "metadata": {},
     "output_type": "execute_result"
    }
   ],
   "source": [
    "df_datos.cargar_metadatos('metadatos_prueba.json')"
   ]
  },
  {
   "cell_type": "code",
   "execution_count": 7,
   "id": "5a90a4ca",
   "metadata": {},
   "outputs": [
    {
     "data": {
      "text/plain": [
       "{'name': 'nombre',\n",
       " 'description': 'descripcion',\n",
       " 'createdAt': 1575379734,\n",
       " 'publicationDate': 1575380046,\n",
       " 'rowsUpdatedAt': 1618623047,\n",
       " 'metadata': {'custom_fields': {'Información de Datos': {'Frecuencia de Actualización': 'Anual'}}},\n",
       " 'approvals': [{'submitter': {'displayName': 'Alcaldia de Pereira Secretaria TIC'}}],\n",
       " 'columns': [{'name': 'vivienda_id_sistema',\n",
       "   'description': '',\n",
       "   'renderTypeName': 'number',\n",
       "   'cachedContents': {'non_null': '14287', 'null': '0'}}]}"
      ]
     },
     "execution_count": 7,
     "metadata": {},
     "output_type": "execute_result"
    }
   ],
   "source": [
    "df_datos.metadatos_indice"
   ]
  },
  {
   "cell_type": "code",
   "execution_count": 8,
   "id": "ab530edb",
   "metadata": {},
   "outputs": [
    {
     "name": "stdout",
     "output_type": "stream",
     "text": [
      "El conjunto de datos no se encuentra actualizado porque la última actualización fue el 2021-04-16 20:30:47 y debe ser actualizado de manera anual\n",
      "{1: 0, 2: 0.0, 3: 1.0, 4: 0, 5: 1.0, 6: 1.0, 7: 0, 8: 1.0, 9: 1, 10: 0}\n"
     ]
    },
    {
     "data": {
      "text/plain": [
       "{'indice': 0.6306284523575554,\n",
       " 'indice_metadatos': 0.3196043896490991,\n",
       " 'indice_datos': 0.9416525150660117}"
      ]
     },
     "execution_count": 8,
     "metadata": {},
     "output_type": "execute_result"
    }
   ],
   "source": [
    "df_datos.indice()"
   ]
  },
  {
   "cell_type": "markdown",
   "id": "70c39ddd",
   "metadata": {},
   "source": [
    "#### Se genera el reporte con los datos y los metadatos"
   ]
  },
  {
   "cell_type": "code",
   "execution_count": 6,
   "id": "2172bba8",
   "metadata": {},
   "outputs": [
    {
     "name": "stdout",
     "output_type": "stream",
     "text": [
      "El conjunto de datos no se encuentra actualizado porque la última actualización fue el 2021-04-16 20:30:47 y debe ser actualizado de manera anual\n",
      "{1: 0, 2: 0.0, 3: 1.0, 4: 0, 5: 1.0, 6: 1.0, 7: 0, 8: 1.0, 9: 1, 10: 0}\n",
      "                           0\n",
      "name                  nombre\n",
      "description      descripcion\n",
      "createdAt         1575379734\n",
      "publicationDate   1575380046\n",
      "rowsUpdatedAt     1618623047\n"
     ]
    },
    {
     "ename": "AttributeError",
     "evalue": "'str' object has no attribute 'values'",
     "output_type": "error",
     "traceback": [
      "\u001b[0;31m---------------------------------------------------------------------------\u001b[0m",
      "\u001b[0;31mAttributeError\u001b[0m                            Traceback (most recent call last)",
      "Cell \u001b[0;32mIn [6], line 2\u001b[0m\n\u001b[1;32m      1\u001b[0m \u001b[38;5;66;03m# Se llama la función para generar el reporte\u001b[39;00m\n\u001b[0;32m----> 2\u001b[0m df_datos\u001b[38;5;241m.\u001b[39mgenerar_reporte(datos\u001b[38;5;241m=\u001b[39mdf_datos,\n\u001b[1;32m      3\u001b[0m                 titulo\u001b[38;5;241m=\u001b[39m\u001b[38;5;124m'\u001b[39m\u001b[38;5;124mPerfilamiento datos COVID-19 - Colombia\u001b[39m\u001b[38;5;124m'\u001b[39m,\n\u001b[1;32m      4\u001b[0m                 archivo\u001b[38;5;241m=\u001b[39m\u001b[38;5;124m'\u001b[39m\u001b[38;5;124mejemplo_reporte__dataframe_con_metadatos.html\u001b[39m\u001b[38;5;124m'\u001b[39m)\n",
      "File \u001b[0;32m~/Documents/dnp/leila/leila_desarrollo_indice_reporte_herencia/leila/leila/calidad_datos.py:1025\u001b[0m, in \u001b[0;36mReporte.generar_reporte\u001b[0;34m(self, datos, titulo, archivo, secciones, **kwargs)\u001b[0m\n\u001b[1;32m   1023\u001b[0m df_metadatos \u001b[38;5;241m=\u001b[39m pd\u001b[38;5;241m.\u001b[39mDataFrame\u001b[38;5;241m.\u001b[39mfrom_dict(datos\u001b[38;5;241m.\u001b[39mmetadatos_indice, orient\u001b[38;5;241m=\u001b[39m\u001b[38;5;124m'\u001b[39m\u001b[38;5;124mindex\u001b[39m\u001b[38;5;124m'\u001b[39m)\n\u001b[1;32m   1024\u001b[0m \u001b[38;5;28mprint\u001b[39m(df_metadatos\u001b[38;5;241m.\u001b[39mhead())\n\u001b[0;32m-> 1025\u001b[0m desc_col \u001b[38;5;241m=\u001b[39m \u001b[43mpd\u001b[49m\u001b[38;5;241;43m.\u001b[39;49m\u001b[43mDataFrame\u001b[49m\u001b[38;5;241;43m.\u001b[39;49m\u001b[43mfrom_dict\u001b[49m\u001b[43m(\u001b[49m\u001b[43mdf_metadatos\u001b[49m\u001b[38;5;241;43m.\u001b[39;49m\u001b[43mloc\u001b[49m\u001b[43m[\u001b[49m\u001b[38;5;124;43m'\u001b[39;49m\u001b[38;5;124;43mname\u001b[39;49m\u001b[38;5;124;43m'\u001b[39;49m\u001b[43m,\u001b[49m\u001b[43m \u001b[49m\u001b[38;5;241;43m0\u001b[39;49m\u001b[43m]\u001b[49m\u001b[43m,\u001b[49m\u001b[43m \u001b[49m\u001b[43morient\u001b[49m\u001b[38;5;241;43m=\u001b[39;49m\u001b[38;5;124;43m'\u001b[39;49m\u001b[38;5;124;43mindex\u001b[39;49m\u001b[38;5;124;43m'\u001b[39;49m\u001b[43m)\u001b[49m\n\u001b[1;32m   1026\u001b[0m desc_col \u001b[38;5;241m=\u001b[39m desc_col\u001b[38;5;241m.\u001b[39mreset_index()\n\u001b[1;32m   1027\u001b[0m desc_col \u001b[38;5;241m=\u001b[39m desc_col\u001b[38;5;241m.\u001b[39mrename(columns\u001b[38;5;241m=\u001b[39m{\u001b[38;5;124m\"\u001b[39m\u001b[38;5;124mindex\u001b[39m\u001b[38;5;124m\"\u001b[39m: \u001b[38;5;124m\"\u001b[39m\u001b[38;5;124mVariable\u001b[39m\u001b[38;5;124m\"\u001b[39m, \u001b[38;5;124m\"\u001b[39m\u001b[38;5;124mtipo\u001b[39m\u001b[38;5;124m\"\u001b[39m: \u001b[38;5;124m\"\u001b[39m\u001b[38;5;124mTipo\u001b[39m\u001b[38;5;124m\"\u001b[39m, \u001b[38;5;124m\"\u001b[39m\u001b[38;5;124mdescripcion\u001b[39m\u001b[38;5;124m\"\u001b[39m: \u001b[38;5;124m\"\u001b[39m\u001b[38;5;124mDescripción\u001b[39m\u001b[38;5;124m\"\u001b[39m,\n\u001b[1;32m   1028\u001b[0m                                     \u001b[38;5;124m\"\u001b[39m\u001b[38;5;124mnombre_df\u001b[39m\u001b[38;5;124m\"\u001b[39m: \u001b[38;5;124m\"\u001b[39m\u001b[38;5;124mNombre variable\u001b[39m\u001b[38;5;124m\"\u001b[39m})\n",
      "File \u001b[0;32m~/Documents/dnp/leila/leila_desarrollo_indice_reporte_herencia/leila_reporte_indice_her_env/lib/python3.10/site-packages/pandas/core/frame.py:1666\u001b[0m, in \u001b[0;36mDataFrame.from_dict\u001b[0;34m(cls, data, orient, dtype, columns)\u001b[0m\n\u001b[1;32m   1663\u001b[0m \u001b[38;5;28;01mif\u001b[39;00m orient \u001b[38;5;241m==\u001b[39m \u001b[38;5;124m\"\u001b[39m\u001b[38;5;124mindex\u001b[39m\u001b[38;5;124m\"\u001b[39m:\n\u001b[1;32m   1664\u001b[0m     \u001b[38;5;28;01mif\u001b[39;00m \u001b[38;5;28mlen\u001b[39m(data) \u001b[38;5;241m>\u001b[39m \u001b[38;5;241m0\u001b[39m:\n\u001b[1;32m   1665\u001b[0m         \u001b[38;5;66;03m# TODO speed up Series case\u001b[39;00m\n\u001b[0;32m-> 1666\u001b[0m         \u001b[38;5;28;01mif\u001b[39;00m \u001b[38;5;28misinstance\u001b[39m(\u001b[38;5;28mlist\u001b[39m(\u001b[43mdata\u001b[49m\u001b[38;5;241;43m.\u001b[39;49m\u001b[43mvalues\u001b[49m())[\u001b[38;5;241m0\u001b[39m], (Series, \u001b[38;5;28mdict\u001b[39m)):\n\u001b[1;32m   1667\u001b[0m             data \u001b[38;5;241m=\u001b[39m _from_nested_dict(data)\n\u001b[1;32m   1668\u001b[0m         \u001b[38;5;28;01melse\u001b[39;00m:\n",
      "\u001b[0;31mAttributeError\u001b[0m: 'str' object has no attribute 'values'"
     ]
    }
   ],
   "source": [
    "# Se llama la función para generar el reporte\n",
    "df_datos.generar_reporte(datos=df_datos,\n",
    "                titulo='Perfilamiento datos COVID-19 - Colombia',\n",
    "                archivo='ejemplo_reporte__dataframe_con_metadatos.html')"
   ]
  },
  {
   "cell_type": "code",
   "execution_count": null,
   "id": "7c8ce827",
   "metadata": {},
   "outputs": [],
   "source": []
  }
 ],
 "metadata": {
  "kernelspec": {
   "display_name": "Python 3 (ipykernel)",
   "language": "python",
   "name": "python3"
  },
  "language_info": {
   "codemirror_mode": {
    "name": "ipython",
    "version": 3
   },
   "file_extension": ".py",
   "mimetype": "text/x-python",
   "name": "python",
   "nbconvert_exporter": "python",
   "pygments_lexer": "ipython3",
   "version": "3.10.6"
  }
 },
 "nbformat": 4,
 "nbformat_minor": 5
}
